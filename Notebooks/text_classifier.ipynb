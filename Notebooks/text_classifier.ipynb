{
  "nbformat": 4,
  "nbformat_minor": 0,
  "metadata": {
    "colab": {
      "provenance": []
    },
    "kernelspec": {
      "name": "python3",
      "display_name": "Python 3"
    },
    "language_info": {
      "name": "python"
    },
    "gpuClass": "standard"
  },
  "cells": [
    {
      "cell_type": "code",
      "execution_count": null,
      "metadata": {
        "colab": {
          "base_uri": "https://localhost:8080/"
        },
        "id": "cs6aeY318WdO",
        "outputId": "db5b1ad2-3363-45ab-8db8-c84c1ad55009"
      },
      "outputs": [
        {
          "output_type": "stream",
          "name": "stdout",
          "text": [
            "Drive already mounted at /content/drive; to attempt to forcibly remount, call drive.mount(\"/content/drive\", force_remount=True).\n"
          ]
        }
      ],
      "source": [
        "from google.colab import drive\n",
        "drive.mount('/content/drive')"
      ]
    },
    {
      "cell_type": "code",
      "source": [
        "import os\n",
        "os.chdir(\"/content/drive/My Drive/document_classifier/\")"
      ],
      "metadata": {
        "id": "tZfTbojP8Z_i"
      },
      "execution_count": null,
      "outputs": []
    },
    {
      "cell_type": "code",
      "source": [
        "# !pip install --upgrade scikit-learn"
      ],
      "metadata": {
        "id": "9e-z_dXnBINl"
      },
      "execution_count": null,
      "outputs": []
    },
    {
      "cell_type": "code",
      "source": [
        "from sklearn.naive_bayes import MultinomialNB # classifier\n",
        "from sklearn.feature_extraction.text import TfidfVectorizer, CountVectorizer # text vectorizer\n",
        "#from nltk.stem import WordNetLemmatizer, PorterStemmer\n",
        "from sklearn.metrics import confusion_matrix, accuracy_score, f1_score  # evaluation\n",
        "import matplotlib.pyplot as plt # visualization\n",
        "import pandas as pd # data representation\n",
        "from sklearn.pipeline import make_pipeline\n",
        "from sklearn.metrics import ConfusionMatrixDisplay\n",
        "import pandas as pd"
      ],
      "metadata": {
        "id": "lEjLwAVj8f4T"
      },
      "execution_count": null,
      "outputs": []
    },
    {
      "cell_type": "code",
      "source": [
        "import pandas as pd\n",
        "prev_data_ = pd.read_csv(\"./health_data/march_text_data.csv\")\n",
        "magma_data_ = pd.read_csv(\"./health_data/magma_chola_liberty_data.csv\")\n",
        "\n",
        "prev_data = prev_data_[['text_pdf', 'page_class']]\n",
        "magma_data = magma_data_[['text_pdf', 'page_class']]\n",
        "prev_data.rename(columns = {'text_pdf': 'text', 'page_class': 'class'}, inplace=True)\n",
        "magma_data.rename(columns = {'text_pdf': 'text', 'page_class': 'class'}, inplace=True)\n",
        "\n",
        "final_data = pd.concat([prev_data, magma_data], axis=0)"
      ],
      "metadata": {
        "colab": {
          "base_uri": "https://localhost:8080/"
        },
        "id": "0J-mFODI9Yjo",
        "outputId": "8da5a0ad-67ac-4442-d63b-3bb674e60906"
      },
      "execution_count": null,
      "outputs": [
        {
          "output_type": "stream",
          "name": "stderr",
          "text": [
            "<ipython-input-89-0ed46851d989>:7: SettingWithCopyWarning: \n",
            "A value is trying to be set on a copy of a slice from a DataFrame\n",
            "\n",
            "See the caveats in the documentation: https://pandas.pydata.org/pandas-docs/stable/user_guide/indexing.html#returning-a-view-versus-a-copy\n",
            "  prev_data.rename(columns = {'text_pdf': 'text', 'page_class': 'class'}, inplace=True)\n",
            "<ipython-input-89-0ed46851d989>:8: SettingWithCopyWarning: \n",
            "A value is trying to be set on a copy of a slice from a DataFrame\n",
            "\n",
            "See the caveats in the documentation: https://pandas.pydata.org/pandas-docs/stable/user_guide/indexing.html#returning-a-view-versus-a-copy\n",
            "  magma_data.rename(columns = {'text_pdf': 'text', 'page_class': 'class'}, inplace=True)\n"
          ]
        }
      ]
    },
    {
      "cell_type": "code",
      "source": [
        "final_data.head()"
      ],
      "metadata": {
        "colab": {
          "base_uri": "https://localhost:8080/",
          "height": 206
        },
        "id": "tmRSb6cCfTQx",
        "outputId": "f3e9fa77-b95b-4bd0-8423-ae113a8dc5b4"
      },
      "execution_count": null,
      "outputs": [
        {
          "output_type": "execute_result",
          "data": {
            "text/plain": [
              "                                                text  class\n",
              "0  Auto Secure ­ Private Car Package Policy\\nName...      0\n",
              "1   \\n \\n^Premium mentioned covers Self and Famil...      0\n",
              "2   \\n      TATA AIG General Insurance Company Lt...      0\n",
              "3   \\nCertificate Of Insurance and Policy Schedul...      1\n",
              "4    Basis of claim\\nsettlement for Tyre\\nSecure ...      0"
            ],
            "text/html": [
              "\n",
              "  <div id=\"df-ad1405a8-dfca-4dff-bbb0-7733c19ba27f\" class=\"colab-df-container\">\n",
              "    <div>\n",
              "<style scoped>\n",
              "    .dataframe tbody tr th:only-of-type {\n",
              "        vertical-align: middle;\n",
              "    }\n",
              "\n",
              "    .dataframe tbody tr th {\n",
              "        vertical-align: top;\n",
              "    }\n",
              "\n",
              "    .dataframe thead th {\n",
              "        text-align: right;\n",
              "    }\n",
              "</style>\n",
              "<table border=\"1\" class=\"dataframe\">\n",
              "  <thead>\n",
              "    <tr style=\"text-align: right;\">\n",
              "      <th></th>\n",
              "      <th>text</th>\n",
              "      <th>class</th>\n",
              "    </tr>\n",
              "  </thead>\n",
              "  <tbody>\n",
              "    <tr>\n",
              "      <th>0</th>\n",
              "      <td>Auto Secure ­ Private Car Package Policy\\nName...</td>\n",
              "      <td>0</td>\n",
              "    </tr>\n",
              "    <tr>\n",
              "      <th>1</th>\n",
              "      <td>\\n \\n^Premium mentioned covers Self and Famil...</td>\n",
              "      <td>0</td>\n",
              "    </tr>\n",
              "    <tr>\n",
              "      <th>2</th>\n",
              "      <td>\\n      TATA AIG General Insurance Company Lt...</td>\n",
              "      <td>0</td>\n",
              "    </tr>\n",
              "    <tr>\n",
              "      <th>3</th>\n",
              "      <td>\\nCertificate Of Insurance and Policy Schedul...</td>\n",
              "      <td>1</td>\n",
              "    </tr>\n",
              "    <tr>\n",
              "      <th>4</th>\n",
              "      <td>Basis of claim\\nsettlement for Tyre\\nSecure ...</td>\n",
              "      <td>0</td>\n",
              "    </tr>\n",
              "  </tbody>\n",
              "</table>\n",
              "</div>\n",
              "    <div class=\"colab-df-buttons\">\n",
              "\n",
              "  <div class=\"colab-df-container\">\n",
              "    <button class=\"colab-df-convert\" onclick=\"convertToInteractive('df-ad1405a8-dfca-4dff-bbb0-7733c19ba27f')\"\n",
              "            title=\"Convert this dataframe to an interactive table.\"\n",
              "            style=\"display:none;\">\n",
              "\n",
              "  <svg xmlns=\"http://www.w3.org/2000/svg\" height=\"24px\" viewBox=\"0 -960 960 960\">\n",
              "    <path d=\"M120-120v-720h720v720H120Zm60-500h600v-160H180v160Zm220 220h160v-160H400v160Zm0 220h160v-160H400v160ZM180-400h160v-160H180v160Zm440 0h160v-160H620v160ZM180-180h160v-160H180v160Zm440 0h160v-160H620v160Z\"/>\n",
              "  </svg>\n",
              "    </button>\n",
              "\n",
              "  <style>\n",
              "    .colab-df-container {\n",
              "      display:flex;\n",
              "      gap: 12px;\n",
              "    }\n",
              "\n",
              "    .colab-df-convert {\n",
              "      background-color: #E8F0FE;\n",
              "      border: none;\n",
              "      border-radius: 50%;\n",
              "      cursor: pointer;\n",
              "      display: none;\n",
              "      fill: #1967D2;\n",
              "      height: 32px;\n",
              "      padding: 0 0 0 0;\n",
              "      width: 32px;\n",
              "    }\n",
              "\n",
              "    .colab-df-convert:hover {\n",
              "      background-color: #E2EBFA;\n",
              "      box-shadow: 0px 1px 2px rgba(60, 64, 67, 0.3), 0px 1px 3px 1px rgba(60, 64, 67, 0.15);\n",
              "      fill: #174EA6;\n",
              "    }\n",
              "\n",
              "    .colab-df-buttons div {\n",
              "      margin-bottom: 4px;\n",
              "    }\n",
              "\n",
              "    [theme=dark] .colab-df-convert {\n",
              "      background-color: #3B4455;\n",
              "      fill: #D2E3FC;\n",
              "    }\n",
              "\n",
              "    [theme=dark] .colab-df-convert:hover {\n",
              "      background-color: #434B5C;\n",
              "      box-shadow: 0px 1px 3px 1px rgba(0, 0, 0, 0.15);\n",
              "      filter: drop-shadow(0px 1px 2px rgba(0, 0, 0, 0.3));\n",
              "      fill: #FFFFFF;\n",
              "    }\n",
              "  </style>\n",
              "\n",
              "    <script>\n",
              "      const buttonEl =\n",
              "        document.querySelector('#df-ad1405a8-dfca-4dff-bbb0-7733c19ba27f button.colab-df-convert');\n",
              "      buttonEl.style.display =\n",
              "        google.colab.kernel.accessAllowed ? 'block' : 'none';\n",
              "\n",
              "      async function convertToInteractive(key) {\n",
              "        const element = document.querySelector('#df-ad1405a8-dfca-4dff-bbb0-7733c19ba27f');\n",
              "        const dataTable =\n",
              "          await google.colab.kernel.invokeFunction('convertToInteractive',\n",
              "                                                    [key], {});\n",
              "        if (!dataTable) return;\n",
              "\n",
              "        const docLinkHtml = 'Like what you see? Visit the ' +\n",
              "          '<a target=\"_blank\" href=https://colab.research.google.com/notebooks/data_table.ipynb>data table notebook</a>'\n",
              "          + ' to learn more about interactive tables.';\n",
              "        element.innerHTML = '';\n",
              "        dataTable['output_type'] = 'display_data';\n",
              "        await google.colab.output.renderOutput(dataTable, element);\n",
              "        const docLink = document.createElement('div');\n",
              "        docLink.innerHTML = docLinkHtml;\n",
              "        element.appendChild(docLink);\n",
              "      }\n",
              "    </script>\n",
              "  </div>\n",
              "\n",
              "\n",
              "<div id=\"df-85e274d8-b1b0-4bf1-bb9d-c80337488f13\">\n",
              "  <button class=\"colab-df-quickchart\" onclick=\"quickchart('df-85e274d8-b1b0-4bf1-bb9d-c80337488f13')\"\n",
              "            title=\"Suggest charts.\"\n",
              "            style=\"display:none;\">\n",
              "\n",
              "<svg xmlns=\"http://www.w3.org/2000/svg\" height=\"24px\"viewBox=\"0 0 24 24\"\n",
              "     width=\"24px\">\n",
              "    <g>\n",
              "        <path d=\"M19 3H5c-1.1 0-2 .9-2 2v14c0 1.1.9 2 2 2h14c1.1 0 2-.9 2-2V5c0-1.1-.9-2-2-2zM9 17H7v-7h2v7zm4 0h-2V7h2v10zm4 0h-2v-4h2v4z\"/>\n",
              "    </g>\n",
              "</svg>\n",
              "  </button>\n",
              "\n",
              "<style>\n",
              "  .colab-df-quickchart {\n",
              "    background-color: #E8F0FE;\n",
              "    border: none;\n",
              "    border-radius: 50%;\n",
              "    cursor: pointer;\n",
              "    display: none;\n",
              "    fill: #1967D2;\n",
              "    height: 32px;\n",
              "    padding: 0 0 0 0;\n",
              "    width: 32px;\n",
              "  }\n",
              "\n",
              "  .colab-df-quickchart:hover {\n",
              "    background-color: #E2EBFA;\n",
              "    box-shadow: 0px 1px 2px rgba(60, 64, 67, 0.3), 0px 1px 3px 1px rgba(60, 64, 67, 0.15);\n",
              "    fill: #174EA6;\n",
              "  }\n",
              "\n",
              "  [theme=dark] .colab-df-quickchart {\n",
              "    background-color: #3B4455;\n",
              "    fill: #D2E3FC;\n",
              "  }\n",
              "\n",
              "  [theme=dark] .colab-df-quickchart:hover {\n",
              "    background-color: #434B5C;\n",
              "    box-shadow: 0px 1px 3px 1px rgba(0, 0, 0, 0.15);\n",
              "    filter: drop-shadow(0px 1px 2px rgba(0, 0, 0, 0.3));\n",
              "    fill: #FFFFFF;\n",
              "  }\n",
              "</style>\n",
              "\n",
              "  <script>\n",
              "    async function quickchart(key) {\n",
              "      const charts = await google.colab.kernel.invokeFunction(\n",
              "          'suggestCharts', [key], {});\n",
              "    }\n",
              "    (() => {\n",
              "      let quickchartButtonEl =\n",
              "        document.querySelector('#df-85e274d8-b1b0-4bf1-bb9d-c80337488f13 button');\n",
              "      quickchartButtonEl.style.display =\n",
              "        google.colab.kernel.accessAllowed ? 'block' : 'none';\n",
              "    })();\n",
              "  </script>\n",
              "</div>\n",
              "    </div>\n",
              "  </div>\n"
            ]
          },
          "metadata": {},
          "execution_count": 90
        }
      ]
    },
    {
      "cell_type": "code",
      "source": [
        "from sklearn.model_selection import train_test_split\n",
        "\n",
        "train_prev, test_prev = train_test_split(final_data, test_size=0.2)"
      ],
      "metadata": {
        "id": "buOJfym9faGD"
      },
      "execution_count": null,
      "outputs": []
    },
    {
      "cell_type": "code",
      "source": [
        "train_df_ = pd.read_csv(\"./health_data/train_metadata_health.csv\")\n",
        "test_df_ = pd.read_csv(\"./health_data/test_metadata_health.csv\")\n",
        "train_df = train_df_[['text', 'class']]\n",
        "test_df = test_df_[['text', 'class']]\n",
        "\n",
        "train_df['class'] = train_df['class'].apply(lambda x: 0 if x=='not_important' else 1)\n",
        "test_df['class'] = test_df['class'].apply(lambda x: 0 if x=='not_important' else 1)\n",
        "\n",
        "# train_df = train_df[['text', 'class']]\n",
        "# test_df = test_df[['text', 'class']]\n",
        "train_df.head(5)"
      ],
      "metadata": {
        "colab": {
          "base_uri": "https://localhost:8080/",
          "height": 420
        },
        "id": "ttanKR0SeVoY",
        "outputId": "df846fce-9092-4134-bb00-3775a6a31245"
      },
      "execution_count": null,
      "outputs": [
        {
          "output_type": "stream",
          "name": "stderr",
          "text": [
            "<ipython-input-92-79ef01a6f4d8>:6: SettingWithCopyWarning: \n",
            "A value is trying to be set on a copy of a slice from a DataFrame.\n",
            "Try using .loc[row_indexer,col_indexer] = value instead\n",
            "\n",
            "See the caveats in the documentation: https://pandas.pydata.org/pandas-docs/stable/user_guide/indexing.html#returning-a-view-versus-a-copy\n",
            "  train_df['class'] = train_df['class'].apply(lambda x: 0 if x=='not_important' else 1)\n",
            "<ipython-input-92-79ef01a6f4d8>:7: SettingWithCopyWarning: \n",
            "A value is trying to be set on a copy of a slice from a DataFrame.\n",
            "Try using .loc[row_indexer,col_indexer] = value instead\n",
            "\n",
            "See the caveats in the documentation: https://pandas.pydata.org/pandas-docs/stable/user_guide/indexing.html#returning-a-view-versus-a-copy\n",
            "  test_df['class'] = test_df['class'].apply(lambda x: 0 if x=='not_important' else 1)\n"
          ]
        },
        {
          "output_type": "execute_result",
          "data": {
            "text/plain": [
              "                                                text  class\n",
              "0  Attached to and forming part of Policy No P/17...      0\n",
              "1  Attached to and forming part of Policy No. P/6...      0\n",
              "2  IMPORTANT 10-FEB-23 To_ AVINISH KUMAR_ HOUSE N...      0\n",
              "3  Star Hezlth Personal Cating Insurance Star Hea...      0\n",
              "4  STAR Health Persona Czring Insurnce Star Healt...      0"
            ],
            "text/html": [
              "\n",
              "  <div id=\"df-1e4f5650-71d3-4078-8b9a-86ddb89d1472\" class=\"colab-df-container\">\n",
              "    <div>\n",
              "<style scoped>\n",
              "    .dataframe tbody tr th:only-of-type {\n",
              "        vertical-align: middle;\n",
              "    }\n",
              "\n",
              "    .dataframe tbody tr th {\n",
              "        vertical-align: top;\n",
              "    }\n",
              "\n",
              "    .dataframe thead th {\n",
              "        text-align: right;\n",
              "    }\n",
              "</style>\n",
              "<table border=\"1\" class=\"dataframe\">\n",
              "  <thead>\n",
              "    <tr style=\"text-align: right;\">\n",
              "      <th></th>\n",
              "      <th>text</th>\n",
              "      <th>class</th>\n",
              "    </tr>\n",
              "  </thead>\n",
              "  <tbody>\n",
              "    <tr>\n",
              "      <th>0</th>\n",
              "      <td>Attached to and forming part of Policy No P/17...</td>\n",
              "      <td>0</td>\n",
              "    </tr>\n",
              "    <tr>\n",
              "      <th>1</th>\n",
              "      <td>Attached to and forming part of Policy No. P/6...</td>\n",
              "      <td>0</td>\n",
              "    </tr>\n",
              "    <tr>\n",
              "      <th>2</th>\n",
              "      <td>IMPORTANT 10-FEB-23 To_ AVINISH KUMAR_ HOUSE N...</td>\n",
              "      <td>0</td>\n",
              "    </tr>\n",
              "    <tr>\n",
              "      <th>3</th>\n",
              "      <td>Star Hezlth Personal Cating Insurance Star Hea...</td>\n",
              "      <td>0</td>\n",
              "    </tr>\n",
              "    <tr>\n",
              "      <th>4</th>\n",
              "      <td>STAR Health Persona Czring Insurnce Star Healt...</td>\n",
              "      <td>0</td>\n",
              "    </tr>\n",
              "  </tbody>\n",
              "</table>\n",
              "</div>\n",
              "    <div class=\"colab-df-buttons\">\n",
              "\n",
              "  <div class=\"colab-df-container\">\n",
              "    <button class=\"colab-df-convert\" onclick=\"convertToInteractive('df-1e4f5650-71d3-4078-8b9a-86ddb89d1472')\"\n",
              "            title=\"Convert this dataframe to an interactive table.\"\n",
              "            style=\"display:none;\">\n",
              "\n",
              "  <svg xmlns=\"http://www.w3.org/2000/svg\" height=\"24px\" viewBox=\"0 -960 960 960\">\n",
              "    <path d=\"M120-120v-720h720v720H120Zm60-500h600v-160H180v160Zm220 220h160v-160H400v160Zm0 220h160v-160H400v160ZM180-400h160v-160H180v160Zm440 0h160v-160H620v160ZM180-180h160v-160H180v160Zm440 0h160v-160H620v160Z\"/>\n",
              "  </svg>\n",
              "    </button>\n",
              "\n",
              "  <style>\n",
              "    .colab-df-container {\n",
              "      display:flex;\n",
              "      gap: 12px;\n",
              "    }\n",
              "\n",
              "    .colab-df-convert {\n",
              "      background-color: #E8F0FE;\n",
              "      border: none;\n",
              "      border-radius: 50%;\n",
              "      cursor: pointer;\n",
              "      display: none;\n",
              "      fill: #1967D2;\n",
              "      height: 32px;\n",
              "      padding: 0 0 0 0;\n",
              "      width: 32px;\n",
              "    }\n",
              "\n",
              "    .colab-df-convert:hover {\n",
              "      background-color: #E2EBFA;\n",
              "      box-shadow: 0px 1px 2px rgba(60, 64, 67, 0.3), 0px 1px 3px 1px rgba(60, 64, 67, 0.15);\n",
              "      fill: #174EA6;\n",
              "    }\n",
              "\n",
              "    .colab-df-buttons div {\n",
              "      margin-bottom: 4px;\n",
              "    }\n",
              "\n",
              "    [theme=dark] .colab-df-convert {\n",
              "      background-color: #3B4455;\n",
              "      fill: #D2E3FC;\n",
              "    }\n",
              "\n",
              "    [theme=dark] .colab-df-convert:hover {\n",
              "      background-color: #434B5C;\n",
              "      box-shadow: 0px 1px 3px 1px rgba(0, 0, 0, 0.15);\n",
              "      filter: drop-shadow(0px 1px 2px rgba(0, 0, 0, 0.3));\n",
              "      fill: #FFFFFF;\n",
              "    }\n",
              "  </style>\n",
              "\n",
              "    <script>\n",
              "      const buttonEl =\n",
              "        document.querySelector('#df-1e4f5650-71d3-4078-8b9a-86ddb89d1472 button.colab-df-convert');\n",
              "      buttonEl.style.display =\n",
              "        google.colab.kernel.accessAllowed ? 'block' : 'none';\n",
              "\n",
              "      async function convertToInteractive(key) {\n",
              "        const element = document.querySelector('#df-1e4f5650-71d3-4078-8b9a-86ddb89d1472');\n",
              "        const dataTable =\n",
              "          await google.colab.kernel.invokeFunction('convertToInteractive',\n",
              "                                                    [key], {});\n",
              "        if (!dataTable) return;\n",
              "\n",
              "        const docLinkHtml = 'Like what you see? Visit the ' +\n",
              "          '<a target=\"_blank\" href=https://colab.research.google.com/notebooks/data_table.ipynb>data table notebook</a>'\n",
              "          + ' to learn more about interactive tables.';\n",
              "        element.innerHTML = '';\n",
              "        dataTable['output_type'] = 'display_data';\n",
              "        await google.colab.output.renderOutput(dataTable, element);\n",
              "        const docLink = document.createElement('div');\n",
              "        docLink.innerHTML = docLinkHtml;\n",
              "        element.appendChild(docLink);\n",
              "      }\n",
              "    </script>\n",
              "  </div>\n",
              "\n",
              "\n",
              "<div id=\"df-80ca29dd-5666-4c43-a0fb-e1e455dc4694\">\n",
              "  <button class=\"colab-df-quickchart\" onclick=\"quickchart('df-80ca29dd-5666-4c43-a0fb-e1e455dc4694')\"\n",
              "            title=\"Suggest charts.\"\n",
              "            style=\"display:none;\">\n",
              "\n",
              "<svg xmlns=\"http://www.w3.org/2000/svg\" height=\"24px\"viewBox=\"0 0 24 24\"\n",
              "     width=\"24px\">\n",
              "    <g>\n",
              "        <path d=\"M19 3H5c-1.1 0-2 .9-2 2v14c0 1.1.9 2 2 2h14c1.1 0 2-.9 2-2V5c0-1.1-.9-2-2-2zM9 17H7v-7h2v7zm4 0h-2V7h2v10zm4 0h-2v-4h2v4z\"/>\n",
              "    </g>\n",
              "</svg>\n",
              "  </button>\n",
              "\n",
              "<style>\n",
              "  .colab-df-quickchart {\n",
              "    background-color: #E8F0FE;\n",
              "    border: none;\n",
              "    border-radius: 50%;\n",
              "    cursor: pointer;\n",
              "    display: none;\n",
              "    fill: #1967D2;\n",
              "    height: 32px;\n",
              "    padding: 0 0 0 0;\n",
              "    width: 32px;\n",
              "  }\n",
              "\n",
              "  .colab-df-quickchart:hover {\n",
              "    background-color: #E2EBFA;\n",
              "    box-shadow: 0px 1px 2px rgba(60, 64, 67, 0.3), 0px 1px 3px 1px rgba(60, 64, 67, 0.15);\n",
              "    fill: #174EA6;\n",
              "  }\n",
              "\n",
              "  [theme=dark] .colab-df-quickchart {\n",
              "    background-color: #3B4455;\n",
              "    fill: #D2E3FC;\n",
              "  }\n",
              "\n",
              "  [theme=dark] .colab-df-quickchart:hover {\n",
              "    background-color: #434B5C;\n",
              "    box-shadow: 0px 1px 3px 1px rgba(0, 0, 0, 0.15);\n",
              "    filter: drop-shadow(0px 1px 2px rgba(0, 0, 0, 0.3));\n",
              "    fill: #FFFFFF;\n",
              "  }\n",
              "</style>\n",
              "\n",
              "  <script>\n",
              "    async function quickchart(key) {\n",
              "      const charts = await google.colab.kernel.invokeFunction(\n",
              "          'suggestCharts', [key], {});\n",
              "    }\n",
              "    (() => {\n",
              "      let quickchartButtonEl =\n",
              "        document.querySelector('#df-80ca29dd-5666-4c43-a0fb-e1e455dc4694 button');\n",
              "      quickchartButtonEl.style.display =\n",
              "        google.colab.kernel.accessAllowed ? 'block' : 'none';\n",
              "    })();\n",
              "  </script>\n",
              "</div>\n",
              "    </div>\n",
              "  </div>\n"
            ]
          },
          "metadata": {},
          "execution_count": 92
        }
      ]
    },
    {
      "cell_type": "code",
      "source": [
        "final_train = pd.concat([train_prev, train_df]).reset_index(drop=True)\n",
        "final_test = pd.concat([test_prev, test_df]).reset_index(drop=True)"
      ],
      "metadata": {
        "id": "Z_FY0s3DeJ6s"
      },
      "execution_count": null,
      "outputs": []
    },
    {
      "cell_type": "code",
      "source": [
        "final_train.head()"
      ],
      "metadata": {
        "colab": {
          "base_uri": "https://localhost:8080/",
          "height": 206
        },
        "id": "l7wlp42Ydgof",
        "outputId": "6b91db82-ef32-4f29-c122-4cf6f46ce6cf"
      },
      "execution_count": null,
      "outputs": [
        {
          "output_type": "execute_result",
          "data": {
            "text/plain": [
              "                                                text  class\n",
              "0   Policy Number: 3362/02486310/000/00\\n  Certif...      1\n",
              "1  The words and phrases listed have special mean...      0\n",
              "2  REGISTRATION \\nMARK & PLACE\\nENGINE NO. & CHAS...      1\n",
              "3  �����������\\nBAJAJ ALLIANZ GENERAL INSURANCE C...      1\n",
              "4  Vehicle Details\\nPolicy Details\\nMake\\nHyundai...      1"
            ],
            "text/html": [
              "\n",
              "  <div id=\"df-a7f2c212-cb74-4a42-9b7a-1a11e9fd6612\" class=\"colab-df-container\">\n",
              "    <div>\n",
              "<style scoped>\n",
              "    .dataframe tbody tr th:only-of-type {\n",
              "        vertical-align: middle;\n",
              "    }\n",
              "\n",
              "    .dataframe tbody tr th {\n",
              "        vertical-align: top;\n",
              "    }\n",
              "\n",
              "    .dataframe thead th {\n",
              "        text-align: right;\n",
              "    }\n",
              "</style>\n",
              "<table border=\"1\" class=\"dataframe\">\n",
              "  <thead>\n",
              "    <tr style=\"text-align: right;\">\n",
              "      <th></th>\n",
              "      <th>text</th>\n",
              "      <th>class</th>\n",
              "    </tr>\n",
              "  </thead>\n",
              "  <tbody>\n",
              "    <tr>\n",
              "      <th>0</th>\n",
              "      <td>Policy Number: 3362/02486310/000/00\\n  Certif...</td>\n",
              "      <td>1</td>\n",
              "    </tr>\n",
              "    <tr>\n",
              "      <th>1</th>\n",
              "      <td>The words and phrases listed have special mean...</td>\n",
              "      <td>0</td>\n",
              "    </tr>\n",
              "    <tr>\n",
              "      <th>2</th>\n",
              "      <td>REGISTRATION \\nMARK &amp; PLACE\\nENGINE NO. &amp; CHAS...</td>\n",
              "      <td>1</td>\n",
              "    </tr>\n",
              "    <tr>\n",
              "      <th>3</th>\n",
              "      <td>�����������\\nBAJAJ ALLIANZ GENERAL INSURANCE C...</td>\n",
              "      <td>1</td>\n",
              "    </tr>\n",
              "    <tr>\n",
              "      <th>4</th>\n",
              "      <td>Vehicle Details\\nPolicy Details\\nMake\\nHyundai...</td>\n",
              "      <td>1</td>\n",
              "    </tr>\n",
              "  </tbody>\n",
              "</table>\n",
              "</div>\n",
              "    <div class=\"colab-df-buttons\">\n",
              "\n",
              "  <div class=\"colab-df-container\">\n",
              "    <button class=\"colab-df-convert\" onclick=\"convertToInteractive('df-a7f2c212-cb74-4a42-9b7a-1a11e9fd6612')\"\n",
              "            title=\"Convert this dataframe to an interactive table.\"\n",
              "            style=\"display:none;\">\n",
              "\n",
              "  <svg xmlns=\"http://www.w3.org/2000/svg\" height=\"24px\" viewBox=\"0 -960 960 960\">\n",
              "    <path d=\"M120-120v-720h720v720H120Zm60-500h600v-160H180v160Zm220 220h160v-160H400v160Zm0 220h160v-160H400v160ZM180-400h160v-160H180v160Zm440 0h160v-160H620v160ZM180-180h160v-160H180v160Zm440 0h160v-160H620v160Z\"/>\n",
              "  </svg>\n",
              "    </button>\n",
              "\n",
              "  <style>\n",
              "    .colab-df-container {\n",
              "      display:flex;\n",
              "      gap: 12px;\n",
              "    }\n",
              "\n",
              "    .colab-df-convert {\n",
              "      background-color: #E8F0FE;\n",
              "      border: none;\n",
              "      border-radius: 50%;\n",
              "      cursor: pointer;\n",
              "      display: none;\n",
              "      fill: #1967D2;\n",
              "      height: 32px;\n",
              "      padding: 0 0 0 0;\n",
              "      width: 32px;\n",
              "    }\n",
              "\n",
              "    .colab-df-convert:hover {\n",
              "      background-color: #E2EBFA;\n",
              "      box-shadow: 0px 1px 2px rgba(60, 64, 67, 0.3), 0px 1px 3px 1px rgba(60, 64, 67, 0.15);\n",
              "      fill: #174EA6;\n",
              "    }\n",
              "\n",
              "    .colab-df-buttons div {\n",
              "      margin-bottom: 4px;\n",
              "    }\n",
              "\n",
              "    [theme=dark] .colab-df-convert {\n",
              "      background-color: #3B4455;\n",
              "      fill: #D2E3FC;\n",
              "    }\n",
              "\n",
              "    [theme=dark] .colab-df-convert:hover {\n",
              "      background-color: #434B5C;\n",
              "      box-shadow: 0px 1px 3px 1px rgba(0, 0, 0, 0.15);\n",
              "      filter: drop-shadow(0px 1px 2px rgba(0, 0, 0, 0.3));\n",
              "      fill: #FFFFFF;\n",
              "    }\n",
              "  </style>\n",
              "\n",
              "    <script>\n",
              "      const buttonEl =\n",
              "        document.querySelector('#df-a7f2c212-cb74-4a42-9b7a-1a11e9fd6612 button.colab-df-convert');\n",
              "      buttonEl.style.display =\n",
              "        google.colab.kernel.accessAllowed ? 'block' : 'none';\n",
              "\n",
              "      async function convertToInteractive(key) {\n",
              "        const element = document.querySelector('#df-a7f2c212-cb74-4a42-9b7a-1a11e9fd6612');\n",
              "        const dataTable =\n",
              "          await google.colab.kernel.invokeFunction('convertToInteractive',\n",
              "                                                    [key], {});\n",
              "        if (!dataTable) return;\n",
              "\n",
              "        const docLinkHtml = 'Like what you see? Visit the ' +\n",
              "          '<a target=\"_blank\" href=https://colab.research.google.com/notebooks/data_table.ipynb>data table notebook</a>'\n",
              "          + ' to learn more about interactive tables.';\n",
              "        element.innerHTML = '';\n",
              "        dataTable['output_type'] = 'display_data';\n",
              "        await google.colab.output.renderOutput(dataTable, element);\n",
              "        const docLink = document.createElement('div');\n",
              "        docLink.innerHTML = docLinkHtml;\n",
              "        element.appendChild(docLink);\n",
              "      }\n",
              "    </script>\n",
              "  </div>\n",
              "\n",
              "\n",
              "<div id=\"df-835783a4-9b69-411b-b695-3ec158927b06\">\n",
              "  <button class=\"colab-df-quickchart\" onclick=\"quickchart('df-835783a4-9b69-411b-b695-3ec158927b06')\"\n",
              "            title=\"Suggest charts.\"\n",
              "            style=\"display:none;\">\n",
              "\n",
              "<svg xmlns=\"http://www.w3.org/2000/svg\" height=\"24px\"viewBox=\"0 0 24 24\"\n",
              "     width=\"24px\">\n",
              "    <g>\n",
              "        <path d=\"M19 3H5c-1.1 0-2 .9-2 2v14c0 1.1.9 2 2 2h14c1.1 0 2-.9 2-2V5c0-1.1-.9-2-2-2zM9 17H7v-7h2v7zm4 0h-2V7h2v10zm4 0h-2v-4h2v4z\"/>\n",
              "    </g>\n",
              "</svg>\n",
              "  </button>\n",
              "\n",
              "<style>\n",
              "  .colab-df-quickchart {\n",
              "    background-color: #E8F0FE;\n",
              "    border: none;\n",
              "    border-radius: 50%;\n",
              "    cursor: pointer;\n",
              "    display: none;\n",
              "    fill: #1967D2;\n",
              "    height: 32px;\n",
              "    padding: 0 0 0 0;\n",
              "    width: 32px;\n",
              "  }\n",
              "\n",
              "  .colab-df-quickchart:hover {\n",
              "    background-color: #E2EBFA;\n",
              "    box-shadow: 0px 1px 2px rgba(60, 64, 67, 0.3), 0px 1px 3px 1px rgba(60, 64, 67, 0.15);\n",
              "    fill: #174EA6;\n",
              "  }\n",
              "\n",
              "  [theme=dark] .colab-df-quickchart {\n",
              "    background-color: #3B4455;\n",
              "    fill: #D2E3FC;\n",
              "  }\n",
              "\n",
              "  [theme=dark] .colab-df-quickchart:hover {\n",
              "    background-color: #434B5C;\n",
              "    box-shadow: 0px 1px 3px 1px rgba(0, 0, 0, 0.15);\n",
              "    filter: drop-shadow(0px 1px 2px rgba(0, 0, 0, 0.3));\n",
              "    fill: #FFFFFF;\n",
              "  }\n",
              "</style>\n",
              "\n",
              "  <script>\n",
              "    async function quickchart(key) {\n",
              "      const charts = await google.colab.kernel.invokeFunction(\n",
              "          'suggestCharts', [key], {});\n",
              "    }\n",
              "    (() => {\n",
              "      let quickchartButtonEl =\n",
              "        document.querySelector('#df-835783a4-9b69-411b-b695-3ec158927b06 button');\n",
              "      quickchartButtonEl.style.display =\n",
              "        google.colab.kernel.accessAllowed ? 'block' : 'none';\n",
              "    })();\n",
              "  </script>\n",
              "</div>\n",
              "    </div>\n",
              "  </div>\n"
            ]
          },
          "metadata": {},
          "execution_count": 94
        }
      ]
    },
    {
      "cell_type": "code",
      "source": [
        "final_train['class'].value_counts()"
      ],
      "metadata": {
        "colab": {
          "base_uri": "https://localhost:8080/"
        },
        "id": "92MbufY_DK5Q",
        "outputId": "04916ee9-c510-46c8-f2b0-5b7a86a20219"
      },
      "execution_count": null,
      "outputs": [
        {
          "output_type": "execute_result",
          "data": {
            "text/plain": [
              "0    3254\n",
              "1    3247\n",
              "Name: class, dtype: int64"
            ]
          },
          "metadata": {},
          "execution_count": 95
        }
      ]
    },
    {
      "cell_type": "code",
      "source": [
        "final_train = final_train[final_train['text'].notnull()]\n",
        "final_test = final_test[final_test['text'].notnull()]"
      ],
      "metadata": {
        "id": "iYu170shCjYj"
      },
      "execution_count": null,
      "outputs": []
    },
    {
      "cell_type": "code",
      "source": [
        "final_train['class'].value_counts()"
      ],
      "metadata": {
        "colab": {
          "base_uri": "https://localhost:8080/"
        },
        "id": "dQmM3zQjCv-X",
        "outputId": "f9952ebb-f2f7-4aa8-c701-e74e68815d57"
      },
      "execution_count": null,
      "outputs": [
        {
          "output_type": "execute_result",
          "data": {
            "text/plain": [
              "1    3233\n",
              "0    3232\n",
              "Name: class, dtype: int64"
            ]
          },
          "metadata": {},
          "execution_count": 97
        }
      ]
    },
    {
      "cell_type": "code",
      "source": [
        "## A function to remove punctuations and other symbols\n",
        "import string\n",
        "\n",
        "punct =[]\n",
        "punct += list(string.punctuation)\n",
        "punct += '’'\n",
        "punct.remove(\"'\")\n",
        "def remove_punctuations(text):\n",
        "    # print(text)\n",
        "    for punctuation in punct:\n",
        "        text = text.replace(punctuation, ' ')\n",
        "    return text"
      ],
      "metadata": {
        "id": "2FONzvTQ_mja"
      },
      "execution_count": null,
      "outputs": []
    },
    {
      "cell_type": "code",
      "source": [
        "import nltk\n",
        "nltk.download('stopwords')\n",
        "#Stop words present in the library\n",
        "stopwords = nltk.corpus.stopwords.words('english')\n",
        "#defining the function to remove stopwords from tokenized text\n",
        "def remove_stopwords(text):\n",
        "    tokens = text.split()\n",
        "    output= \" \".join([i for i in tokens if i not in stopwords])\n",
        "    # print(output)\n",
        "    return output"
      ],
      "metadata": {
        "colab": {
          "base_uri": "https://localhost:8080/"
        },
        "id": "W1O7Bnt4Fjvo",
        "outputId": "b4be94eb-12c2-4cde-c7e6-78df690a75e2"
      },
      "execution_count": null,
      "outputs": [
        {
          "output_type": "stream",
          "name": "stderr",
          "text": [
            "[nltk_data] Downloading package stopwords to /root/nltk_data...\n",
            "[nltk_data]   Package stopwords is already up-to-date!\n"
          ]
        }
      ]
    },
    {
      "cell_type": "code",
      "source": [
        "final_train['text'] = final_train['text'].apply(lambda x: remove_punctuations(x))\n",
        "final_train['text'] = final_train['text'].apply(lambda x: str(x).replace(\"  \", \" \"))\n",
        "final_train['text'] = final_train['text'].apply(lambda x: remove_stopwords(x))\n",
        "final_train['text'] = final_train['text'].apply(lambda x: x.lower())\n",
        "# final_train['label'] = final_train['class'].apply(lambda x: 0 if x == 'not_important' else 1)\n",
        "final_train.rename(columns = {'class': 'label'}, inplace=True)\n",
        "final_test['text'] = final_test['text'].apply(lambda x: remove_punctuations(x))\n",
        "final_test['text'] = final_test['text'].apply(lambda x: str(x).replace(\"  \", \" \"))\n",
        "final_test['text'] = final_test['text'].apply(lambda x: remove_stopwords(x))\n",
        "final_test['text'] = final_test['text'].apply(lambda x: x.lower())\n",
        "# final_test['label'] = final_test['class'].apply(lambda x: 0 if x == 'not_important' else 1)\n",
        "final_test.rename(columns = {'class': 'label'}, inplace=True)"
      ],
      "metadata": {
        "id": "0FCEqJK5_maW"
      },
      "execution_count": null,
      "outputs": []
    },
    {
      "cell_type": "code",
      "source": [
        "# final_train"
      ],
      "metadata": {
        "id": "5u-csUTVijVT"
      },
      "execution_count": null,
      "outputs": []
    },
    {
      "cell_type": "code",
      "source": [
        "from sklearn.pipeline import Pipeline\n",
        "from sklearn.feature_extraction.text import TfidfVectorizer\n",
        "from sklearn.naive_bayes import MultinomialNB, GaussianNB, ComplementNB\n",
        "from sklearn.svm import LinearSVC\n",
        "from sklearn.svm import SVC\n",
        "\n",
        "# # Load the saved pipeline checkpoint\n",
        "# checkpoint_filename = './health_data/finalized_model.pkl'\n",
        "\n",
        "# with open(checkpoint_filename, 'rb') as f:\n",
        "#     loaded_pipeline = pickle.load(f)\n",
        "\n",
        "text_clf = Pipeline([('vect', TfidfVectorizer(min_df=2, ngram_range=(1,4))),\n",
        "                      ('clf', SVC(class_weight='balanced', gamma='scale', probability=True,\n",
        "                                           random_state=50)) ])\n",
        "\n",
        "# You can access the individual steps\n",
        "# vectorizer = loaded_pipeline.named_steps['vect']\n",
        "# classifier = loaded_pipeline.named_steps['clf']\n",
        "\n",
        "# train the model\n",
        "text_clf.fit(final_train.text, final_train.label)\n",
        "# Predict the test cases\n",
        "predicted = text_clf.predict(final_test.text)\n",
        "\n",
        "from sklearn import metrics\n",
        "from sklearn.metrics import accuracy_score\n",
        "import numpy as np\n",
        "\n",
        "print('Accuracy achieved is ' + str(np.mean(predicted == final_test.label)))\n",
        "print(metrics.classification_report(final_test.label, predicted, target_names=['not_important', 'important'])),\n",
        "metrics.confusion_matrix(final_test.label, predicted)"
      ],
      "metadata": {
        "colab": {
          "base_uri": "https://localhost:8080/"
        },
        "id": "7wuzQ5ox_yzb",
        "outputId": "19bde884-232b-4444-eafc-37177e493407"
      },
      "execution_count": null,
      "outputs": [
        {
          "output_type": "stream",
          "name": "stdout",
          "text": [
            "Accuracy achieved is 0.97724399494311\n",
            "               precision    recall  f1-score   support\n",
            "\n",
            "not_important       0.98      0.97      0.98       798\n",
            "    important       0.97      0.98      0.98       784\n",
            "\n",
            "     accuracy                           0.98      1582\n",
            "    macro avg       0.98      0.98      0.98      1582\n",
            " weighted avg       0.98      0.98      0.98      1582\n",
            "\n"
          ]
        },
        {
          "output_type": "execute_result",
          "data": {
            "text/plain": [
              "array([[774,  24],\n",
              "       [ 12, 772]])"
            ]
          },
          "metadata": {},
          "execution_count": 102
        }
      ]
    },
    {
      "cell_type": "code",
      "source": [
        "import pickle\n",
        "# save the model to disk\n",
        "filename = './health_data/finalized_model_v2.pkl'\n",
        "pickle.dump(text_clf, open(filename, 'wb'))\n",
        "\n",
        "# some time later...\n",
        "\n",
        "# load the model from disk\n",
        "# loaded_model = pickle.load(open(filename, 'rb'))"
      ],
      "metadata": {
        "id": "S9Hog7XLAGGy"
      },
      "execution_count": null,
      "outputs": []
    },
    {
      "cell_type": "code",
      "source": [
        "# !pip install pdf2image\n",
        "# !sudo apt-get install poppler-utils\n",
        "# !pip install PyPDF2\n",
        "# output.clear()"
      ],
      "metadata": {
        "id": "t_XkMT8q-54C"
      },
      "execution_count": null,
      "outputs": []
    },
    {
      "cell_type": "code",
      "source": [
        "pdf_path = './a2937214-5676-4354-a85c-8c26580b46ab.pdf'\n",
        "import PyPDF2, os, re\n",
        "from pdf2image import convert_from_path\n",
        "filename = pdf_path.split(\"/\")[-1].split(\".\")[0]\n",
        "if not os.path.exists(f\"./media/{filename}\"):\n",
        "    os.makedirs(f\"./media/{filename}\")\n",
        "images = convert_from_path(pdf_path)\n",
        "read_pdf = PyPDF2.PdfFileReader(pdf_path)\n",
        "number_of_pages = read_pdf.getNumPages()\n",
        "for i, page_number in enumerate(range(number_of_pages)):   # use xrange in Py2\n",
        "    page = read_pdf.getPage(page_number)\n",
        "    page_content = page.extractText()\n",
        "    images[i].save(f\"./media/{filename}/\"+ filename+ '_page_'+ str(i) +'.jpg', 'JPEG')\n",
        "    file1 = open(f\"./media/{filename}/\"+ filename+ '_page_'+ str(i) +'.txt',\"w\")#append mode\n",
        "    page_content = re.sub(' +', ' ', page_content)\n",
        "    file1.write(page_content)\n",
        "    file1.close()"
      ],
      "metadata": {
        "id": "v5_pva5w-wKV"
      },
      "execution_count": null,
      "outputs": []
    },
    {
      "cell_type": "code",
      "source": [
        "image_list, txt_list = [], []\n",
        "for file in os.listdir(f\"./media/{filename}/\"):\n",
        "  if file.endswith('.jpg'):\n",
        "      image_list.append(f\"./media/{filename}/\" + file)\n",
        "      f = open(f\"./media/{filename}/\" + file.replace(\".jpg\", '.txt'), 'r')\n",
        "      txt =  f.read()\n",
        "      txt_list.append(txt)\n",
        "      f.close()"
      ],
      "metadata": {
        "id": "zX6O3Xrp-4qR"
      },
      "execution_count": null,
      "outputs": []
    },
    {
      "cell_type": "code",
      "source": [
        "# !pip install easyocr"
      ],
      "metadata": {
        "id": "o-hK4rQOMBDo"
      },
      "execution_count": null,
      "outputs": []
    },
    {
      "cell_type": "code",
      "source": [
        "# import easyocr\n",
        "# reader = easyocr.Reader(['en'], gpu = True)"
      ],
      "metadata": {
        "id": "MnkGIrHp_HvX"
      },
      "execution_count": null,
      "outputs": []
    },
    {
      "cell_type": "code",
      "source": [
        "# pdf_path = './b36cf186-41a6-4b56-a644-232b97b50288.pdf'\n",
        "# import PyPDF2, os, re\n",
        "# from pdf2image import convert_from_path\n",
        "# filename = pdf_path.split(\"/\")[-1].split(\".\")[0]\n",
        "# if not os.path.exists(f\"./media/{filename}\"):\n",
        "#     os.makedirs(f\"./media/{filename}\")\n",
        "# images = convert_from_path(pdf_path)\n",
        "# read_pdf = PyPDF2.PdfFileReader(pdf_path)\n",
        "# number_of_pages = read_pdf.getNumPages()\n",
        "# for i, page_number in enumerate(range(number_of_pages)):   # use xrange in Py2\n",
        "#     # page = read_pdf.getPage(page_number)\n",
        "#     # page_content = page.extractText()\n",
        "#     images[i].save(f\"./media/{filename}/\"+ filename+ '_page_'+ str(i) +'.jpg', 'JPEG')\n",
        "#     data_eng = \" \".join(reader.readtext(f\"./media/{filename}/\"+ filename+ '_page_'+ str(i) +'.jpg', detail = 0, paragraph=True))\n",
        "#     file1 = open(f\"./media/{filename}/\"+ filename+ '_page_'+ str(i) +'.txt',\"w\") #append mode\n",
        "#     page_content = re.sub(' +', ' ', data_eng)\n",
        "#     file1.write(page_content)\n",
        "#     file1.close()"
      ],
      "metadata": {
        "id": "4wMf1lG_MJFE"
      },
      "execution_count": null,
      "outputs": []
    },
    {
      "cell_type": "code",
      "source": [],
      "metadata": {
        "id": "Q8d0h09qMQPx"
      },
      "execution_count": null,
      "outputs": []
    },
    {
      "cell_type": "code",
      "source": [
        "import string\n",
        "\n",
        "punct =[]\n",
        "punct += list(string.punctuation)\n",
        "punct += '’'\n",
        "punct.remove(\"'\")\n",
        "def remove_punctuations(text):\n",
        "    for punctuation in punct:\n",
        "        text = text.replace(punctuation, ' ')\n",
        "    return text"
      ],
      "metadata": {
        "id": "YmlxLrbyDg_0"
      },
      "execution_count": null,
      "outputs": []
    },
    {
      "cell_type": "code",
      "source": [
        "import nltk\n",
        "nltk.download('stopwords')\n",
        "#Stop words present in the library\n",
        "stopwords = nltk.corpus.stopwords.words('english')\n",
        "#defining the function to remove stopwords from tokenized text\n",
        "def remove_stopwords(text):\n",
        "    tokens = text.split()\n",
        "    output= \" \".join([i for i in tokens if i not in stopwords])\n",
        "    return output"
      ],
      "metadata": {
        "colab": {
          "base_uri": "https://localhost:8080/"
        },
        "id": "xqbTwoY_FQX9",
        "outputId": "7f3ba7bd-f9e8-44c9-dcf6-7e233491bf5b"
      },
      "execution_count": null,
      "outputs": [
        {
          "output_type": "stream",
          "name": "stderr",
          "text": [
            "[nltk_data] Downloading package stopwords to /root/nltk_data...\n",
            "[nltk_data]   Unzipping corpora/stopwords.zip.\n"
          ]
        }
      ]
    },
    {
      "cell_type": "code",
      "source": [],
      "metadata": {
        "id": "gOyzD20WFXk6"
      },
      "execution_count": null,
      "outputs": []
    },
    {
      "cell_type": "code",
      "source": [],
      "metadata": {
        "id": "JfxYk5MuFXG7"
      },
      "execution_count": null,
      "outputs": []
    },
    {
      "cell_type": "code",
      "source": [
        "txt_ = list(map(remove_punctuations, txt_list))\n",
        "txt_ = list(map(lambda x: str(x).replace(\"  \", \" \"), txt_))\n",
        "txt_ = list(map(remove_stopwords, txt_))\n",
        "final_txt_list = list(map(lambda x: x.lower(), txt_))"
      ],
      "metadata": {
        "id": "qVyuaCvsDiIw"
      },
      "execution_count": null,
      "outputs": []
    },
    {
      "cell_type": "code",
      "source": [
        "final_txt_list[0]"
      ],
      "metadata": {
        "colab": {
          "base_uri": "https://localhost:8080/",
          "height": 161
        },
        "id": "sfxoYbLsDiCj",
        "outputId": "74a34fef-257f-4824-88db-aac87412bf74"
      },
      "execution_count": null,
      "outputs": [
        {
          "output_type": "execute_result",
          "data": {
            "text/plain": [
              "'future generali india insurance company limited corp regd office 6thfloor tower 3 indiabulls finance center senapati bapat marg elphinstone road mumbai 400013 maharashtra care line 1800 220 233 1860 500 3333 022 67837800 email fgcare futuregenerali website www futuregenerali irda regn no 132 cin u66030mh2006plc165287 if undelivered please return future generali india insurance company limited 205 to 208 2nd floor aurum opp astha clinic near vasna petrol pump makarand desai road vasna vadodara gujarat 390007 date 30 06 2020 policy no v7283988 mr ashwinbhai arvindbhai bagdai a 9 madhuvan park society near indrapuri karelibaug vadodara gujarat pincode 390018 intermediary name invictus insurance broking services pvt ltd brr fpv to activate road side assistance rsa cover sms activate policy v7283988 to 9222211100 standard sms charges applicable dear mr ashwinbhai arvindbhai bagdai welcome future generali experience wethank youforchoosing motor secure insurance policy your policy no v7283988 motor secure policy offers vehicle protection anyunforeseen vehicle accidents andlosstothird party property orlifearising asperthecoverage mentioned intheattached policy terms andconditions werequest youtokindly gothrough thesame toacquaint available coverage our initiatives provide thehighest standards ofservice convenience quality inmotor insurance some ofour customer conveniences mentioned 1 preferred garages we wide network preferred garages offer direct settlement facilities 2 wealso arrange apickup facility forthedamaged vehicle theplace ofaccident toourpreferred garage forrepairs you justhave tocallus expenses incurred forsuch facility issubject tothelimit oftowing charges asmentioned intheattached policy terms conditions 3 multiple modes ofclaim notification in theunfortunate circumstances ofanaccident may notify usforaclaim sending ansms motorclaim to9222211100 standard sms charges applicable orbycalling usat1800 220 233 1860 500 3333 022 67837800 sending email fgcare futuregenerali walk nearest offices itwill always beourendeavour toconstantly better experience byinnovating andevolving ourbasket ofconveniences westrive deliver service personalized totally transparent it aim time need the policy issued basis proposal form a copy enclosed reference please confirm proposal form contains correct information signed please note transfer ofbenefits thisinsurance policy isnotautomatic onthesale ofthevehicle the transferee must apply within 14days thedate oftransfer ofvehicle inwriting totheinsurance company fulldetails inaduly signed fresh proposal form along evidence sale transfer fees ₹ 50 goods service tax once thank choosing insure vehicle future generali look forward service assuring best services times'"
            ],
            "application/vnd.google.colaboratory.intrinsic+json": {
              "type": "string"
            }
          },
          "metadata": {},
          "execution_count": 17
        }
      ]
    },
    {
      "cell_type": "code",
      "source": [
        "predicted = loaded_model.predict(final_txt_list)"
      ],
      "metadata": {
        "id": "m8bY3d6f_PBH"
      },
      "execution_count": null,
      "outputs": []
    },
    {
      "cell_type": "code",
      "source": [
        "predicted"
      ],
      "metadata": {
        "colab": {
          "base_uri": "https://localhost:8080/"
        },
        "id": "-b_EIbXf_abt",
        "outputId": "45b7171a-cf84-4c78-c7d3-d0690be476e9"
      },
      "execution_count": null,
      "outputs": [
        {
          "output_type": "execute_result",
          "data": {
            "text/plain": [
              "array([0, 1, 1, 0, 1, 0, 0, 0])"
            ]
          },
          "metadata": {},
          "execution_count": 19
        }
      ]
    },
    {
      "cell_type": "code",
      "source": [
        "target_name = ['not_important', 'important']\n",
        "pred_prob = loaded_model.predict_proba(final_txt_list)\n",
        "ix = pred_prob.argmax(1)\n",
        "prediction = [(target_name[val], round(prob[val], 2)) for val, prob in zip(ix, pred_prob)]\n",
        "print(prediction)"
      ],
      "metadata": {
        "colab": {
          "base_uri": "https://localhost:8080/"
        },
        "id": "19qQzJ-do4zp",
        "outputId": "3d6d3674-9e2a-44ce-d8d8-74593afb0cfe"
      },
      "execution_count": null,
      "outputs": [
        {
          "output_type": "stream",
          "name": "stdout",
          "text": [
            "[('not_important', 0.98), ('important', 0.98), ('important', 0.99), ('not_important', 0.89), ('important', 0.99), ('not_important', 1.0), ('not_important', 1.0), ('not_important', 0.97)]\n"
          ]
        }
      ]
    },
    {
      "cell_type": "code",
      "source": [
        "# for i in range(len(y_pred)):\n",
        "#     print(f'\"{target_categories[y_pred[i]]:<22}\" ==> \"{text[i]}\"')"
      ],
      "metadata": {
        "id": "YpFQJhrp_RB2"
      },
      "execution_count": null,
      "outputs": []
    },
    {
      "cell_type": "code",
      "source": [],
      "metadata": {
        "id": "2PcR7_OmybFP"
      },
      "execution_count": null,
      "outputs": []
    }
  ]
}